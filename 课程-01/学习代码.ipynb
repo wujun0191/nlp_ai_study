Lesson-01 Assignment
基础理论部分
0. Can you come up out 3 sceneraies which use AI methods?
Ans: 聊天机器人、自动驾驶、推荐系统
1. How do we use Github; Why do we use Jupyter and Pycharm;
Ans: 使用Git进行代码管理， jupyter和Pycharm是python的ide环境
2. What's the Probability Model?
Ans:概率模型
3. Can you came up with some sceneraies at which we could use Probability Model?
Ans:聊天机器人、量化交易中的预测
4. Why do we use probability and what's the difficult points for programming based on parsing and pattern match?
Ans:1. 自动识别，提高识别率； 2. 基于语法反推的识别率低
5. What's the Language Model;
Ans: The probability of a sentence（一句话出现的概率模型）
6. Can you came up with some sceneraies at which we could use Language Model?
Ans:搜索引擎、语音机器人
7. What's the 1-gram language model;
Ans: 1个单词的出现概率  𝑃𝑟(𝑤𝑖)=𝑃𝑟(𝑤𝑖)=∏𝑐𝑜𝑢𝑛𝑡(𝑤𝑖)/𝑁

8. What's the disadvantages and advantages of 1-gram language model;
Ans: 
9. What't the 2-gram models;
Ans:两个单词同时出现的概率  𝑃𝑟(𝑤𝑖)=𝑃𝑟(𝑤11⋅𝑤2⋯𝑤𝑛)=∏𝑐𝑜𝑢𝑛𝑡(𝑤𝑖,𝑤𝑖+1)/𝑐𝑜𝑢𝑛𝑡(𝑤𝑖+1)



编程实践部分
1. 设计你自己的句子生成器
如何生成句子是一个很经典的问题，从1940s开始，图灵提出机器智能的时候，就使用的是人类能不能流畅和计算机进行对话。和计算机对话的一个前提是，计算机能够生成语言。
计算机如何能生成语言是一个经典但是又很复杂的问题。 我们课程上为大家介绍的是一种基于规则（Rule Based）的生成方法。该方法虽然提出的时间早，但是现在依然在很多地方能够大显身手。值得说明的是，现在很多很实用的算法，都是很久之前提出的，例如，二分查找提出与1940s, Dijstra算法提出于1960s 等等。
在著名的电视剧，电影《西部世界》中，这些机器人们语言生成的方法就是使用的SyntaxTree生成语言的方法。

在这一部分，需要各位同学首先定义自己的语言。 大家可以先想一个应用场景，然后在这个场景下，定义语法。例如：
在西部世界里，一个”人类“的语言可以定义为：
human = """
human = 自己 寻找 活动
自己 = 我 | 俺 | 我们 
寻找 = 看看 | 找找 | 想找点
活动 = 乐子 | 玩的
"""
一个“接待员”的语言可以定义为
host = """
host = 寒暄 报数 询问 业务相关 结尾 
报数 = 我是 数字 号 ,
数字 = 单个数字 | 数字 单个数字 
单个数字 = 1 | 2 | 3 | 4 | 5 | 6 | 7 | 8 | 9 
寒暄 = 称谓 打招呼 | 打招呼
称谓 = 人称 ,
人称 = 先生 | 女士 | 小朋友
打招呼 = 你好 | 您好 
询问 = 请问你要 | 您需要
业务相关 = 玩玩 具体业务
玩玩 = 耍一耍 | 玩一玩
具体业务 = 喝酒 | 打牌 | 打猎 | 赌博
结尾 = 吗？"""
请定义你自己的语法:
第一个语法：

human = '''
human => 自己 寻找 活动 结尾
自己 => 我 | 俺 | 我们 | 咱们 
寻找 => 看看 | 找找 | 想找点 
活动 => 乐子 | 玩的 | 喝的
结尾 => 呢 | ！ | ？ | 啊
'''
import random

def generate(grammar_rule,target):
    if target in grammar_rule:
        candidates = grammar_rule[target]  # ['name names', 'name']
        candidate = random.choice(candidates) # 'name names', 'name'
        
        return ''.join(generate(grammar_rule,target=c.strip()) for c in candidate.split())
    else:
        return target
    
def get_generation_by_gram(grammar_str,target,stmt_split='=>',or_split='|'):
    rules = dict()
    for line in grammar_str.split('\n'):
        if not line: continue
        
        stmt,expr = line.split(stmt_split)
        
        rules[stmt.strip()] = expr.split(or_split)
    
    generated = generate(rules,target=target)
    
    return generated



'客人A:'+get_generation_by_gram(human,target="human")


第二个语法：
In [ ]:
host = '''
host => 寒暄 报数 询问 业务相关 结尾 
报数 => 我是 数字 号 ,
数字 => 单个数字 | 数字 单个数字 
单个数字 => 1 | 2 | 3 | 4 | 5 | 6 | 7 | 8 | 9 
寒暄 => 称谓 打招呼 | 打招呼
称谓 => 人称 ,
人称 => 先生 | 女士 | 小朋友
打招呼 => 你好 | 您好 
询问 => 请问你要 | 您需要
业务相关 => 玩玩 具体业务
玩玩 => 耍一耍 | 玩一玩
具体业务 => 喝酒 | 打牌 | 筛子 | 玩21点
结尾 => 吗？'''


'前台：'+ get_generation_by_gram(host,target="host")

TODO: 然后，使用自己之前定义的generate函数，使用此函数生成句子。

TODO: 然后，定义一个函数，generate_n，将generate扩展，使其能够生成n个句子:
In [10]:
 def general_n(general_count = 20):
    for i in range(general_count):
        print("1."+get_generation_by_gram(human,target="human")) 
        print("2."+get_generation_by_gram(host,target="host"))
        print("\n")
    
general_n(30)

2. 使用新数据源完成语言模型的训练
按照我们上文中定义的prob_2函数，我们更换一个文本数据源，获得新的Language Model:
1. 下载文本数据集（你可以在以下数据集中任选一个，也可以两个都使用）
• 可选数据集1，保险行业问询对话集： https://github.com/Computing-Intelligence/insuranceqa-corpus-zh/raw/release/corpus/pool/train.txt.gz
• 可选数据集2：豆瓣评论数据集：https://github.com/Computing-Intelligence/datasource/raw/master/movie_comments.csv
2. 修改代码，获得新的2-gram语言模型
• 进行文本清洗，获得所有的纯文本
• 将这些文本进行切词
• 送入之前定义的语言模型中，判断文本的合理程度
3. 获得最优质的的语言
当我们能够生成随机的语言并且能判断之后，我们就可以生成更加合理的语言了。请定义 generate_best 函数，该函数输入一个语法 + 语言模型，能够生成n个句子，并能选择一个最合理的句子:
提示，要实现这个函数，你需要Python的sorted函数
In [13]:
sorted([1, 3, 5, 2])
Out[13]:
[1, 2, 3, 5]
这个函数接受一个参数key，这个参数接受一个函数作为输入，例如
In [15]:
sorted([(2, 5), (1, 4), (5, 0), (4, 4)], key=lambda x: x[0])
Out[15]:
[(1, 4), (2, 5), (4, 4), (5, 0)]
能够让list按照第0个元素进行排序.
In [16]:
sorted([(2, 5), (1, 4), (5, 0), (4, 4)], key=lambda x: x[1])
Out[16]:
[(5, 0), (1, 4), (4, 4), (2, 5)]
能够让list按照第1个元素进行排序.
In [17]:
sorted([(2, 5), (1, 4), (5, 0), (4, 4)], key=lambda x: x[1], reverse=True)
Out[17]:
[(2, 5), (1, 4), (4, 4), (5, 0)]
能够让list按照第1个元素进行排序, 但是是递减的顺序。
>
In [20]:
def generate_best(): # you code here
    pass
好了，现在我们实现了自己的第一个AI模型，这个模型能够生成比较接近于人类的语言。
>
Q: 这个模型有什么问题？ 你准备如何提升？
Ans:
>
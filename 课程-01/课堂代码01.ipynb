{
 "cells": [
  {
   "cell_type": "code",
   "execution_count": 8,
   "metadata": {},
   "outputs": [],
   "source": [
    "hello_rules= '''\n",
    "say_hello = name hello tail\n",
    "names = name names | name\n",
    "name = John | mike | 老吴 | 老李\n",
    "hello = 你好 | 您来了 | 快进来\n",
    "tail = 啊 | ！\n",
    "'''"
   ]
  },
  {
   "cell_type": "code",
   "execution_count": 9,
   "metadata": {},
   "outputs": [],
   "source": [
    "rules = dict()"
   ]
  },
  {
   "cell_type": "code",
   "execution_count": 10,
   "metadata": {},
   "outputs": [
    {
     "data": {
      "text/plain": [
       "'add = number + number'"
      ]
     },
     "execution_count": 10,
     "metadata": {},
     "output_type": "execute_result"
    }
   ],
   "source": [
    "'add = number + number'"
   ]
  },
  {
   "cell_type": "code",
   "execution_count": 21,
   "metadata": {},
   "outputs": [
    {
     "data": {
      "text/plain": [
       "[' John ', ' mike ', ' 老吴 ', ' 老李']"
      ]
     },
     "execution_count": 21,
     "metadata": {},
     "output_type": "execute_result"
    }
   ],
   "source": [
    "stmt_split = '='\n",
    "or_split = '|' \n",
    "\n",
    "for line in hello_rules.split('\\n'):\n",
    "    if not line : continue        \n",
    "    \n",
    "    stmt,expr = line.strip().split(stmt_split)\n",
    "    #print(stmt,expr.split(or_split))\n",
    "   \n",
    "    rules[stmt.strip()] = expr.split(or_split)\n",
    "     \n",
    "    \n",
    "rules  \n",
    "\n",
    "rules[\"name\"]\n",
    "    "
   ]
  },
  {
   "cell_type": "code",
   "execution_count": 32,
   "metadata": {},
   "outputs": [],
   "source": [
    "import random\n",
    "def generate(grammar_rule,target):\n",
    "    if target in grammar_rule:\n",
    "        candidates = grammar_rule[target]  # ['name names', 'name']\n",
    "        candidate = random.choice(candidates) # 'name names', 'name'\n",
    "        \n",
    "        return ''.join(generate(grammar_rule,target=c.strip()) for c in candidate.split())\n",
    "    else:\n",
    "        return target\n"
   ]
  },
  {
   "cell_type": "code",
   "execution_count": 46,
   "metadata": {},
   "outputs": [
    {
     "data": {
      "text/plain": [
       "'John你好啊'"
      ]
     },
     "execution_count": 46,
     "metadata": {},
     "output_type": "execute_result"
    }
   ],
   "source": [
    "generate(rules,target = 'say_hello')"
   ]
  },
  {
   "cell_type": "code",
   "execution_count": 56,
   "metadata": {},
   "outputs": [],
   "source": [
    "simple_grammar = '''\n",
    "sentence => noun_phrase verb_phrase\n",
    "noun_phrase => Article Adj* noun\n",
    "Adj* => Adj | Adj Adj*\n",
    "verb_phrase => verb noun_phrase\n",
    "Article => 一个 | 这个\n",
    "noun => 女人 | 篮球 | 桌子 | 小猫\n",
    "verb => 看着 | 坐着 | 听着 | 看见\n",
    "Adj => 蓝色的 |好看的 | 小小的\n",
    "'''"
   ]
  },
  {
   "cell_type": "code",
   "execution_count": 57,
   "metadata": {},
   "outputs": [],
   "source": [
    "def get_generation_by_gram(grammar_str,target,stmt_split='=',or_split='|'):\n",
    "    rules = dict()\n",
    "    for line in grammar_str.split('\\n'):\n",
    "        if not line: continue\n",
    "        \n",
    "        stmt,expr = line.split(stmt_split)\n",
    "        \n",
    "        rules[stmt.strip()] = expr.split(or_split)\n",
    "    \n",
    "    generated = generate(rules,target=target)\n",
    "    \n",
    "    return generated"
   ]
  },
  {
   "cell_type": "code",
   "execution_count": 60,
   "metadata": {},
   "outputs": [
    {
     "data": {
      "text/plain": [
       "'一个小小的小猫看见一个小小的小猫'"
      ]
     },
     "execution_count": 60,
     "metadata": {},
     "output_type": "execute_result"
    }
   ],
   "source": [
    "get_generation_by_gram(simple_grammar,target='sentence',stmt_split='=>')"
   ]
  },
  {
   "cell_type": "code",
   "execution_count": 72,
   "metadata": {},
   "outputs": [],
   "source": [
    "simple_programming ='''\n",
    "if_stmt => if { cond } { stmt }\n",
    "cond => var op var\n",
    "op => | == | < | >= | <=\n",
    "stmt => assign\n",
    "assign => var = var\n",
    "var => char var | char\n",
    "char => a | b | c | d\n",
    "'''"
   ]
  },
  {
   "cell_type": "code",
   "execution_count": 79,
   "metadata": {},
   "outputs": [
    {
     "name": "stdout",
     "output_type": "stream",
     "text": [
      "if{d<a}{cdc=bb}\n",
      "if{dbc==d}{c=cbd}\n",
      "if{d==b}{b=c}\n",
      "if{b<=dc}{b=ab}\n",
      "if{a<=c}{b=bdb}\n",
      "if{d>=bc}{cba=a}\n",
      "if{bdcca<=d}{dba=bd}\n",
      "if{c>=a}{caadaa=cd}\n",
      "if{c<d}{c=d}\n",
      "if{a<=b}{b=c}\n",
      "if{aad}{aa=b}\n",
      "if{caabaa}{d=d}\n",
      "if{cc==ddd}{d=bdd}\n",
      "if{b>=a}{d=dccb}\n",
      "if{daabb<=adc}{da=db}\n",
      "if{dc<d}{cbca=c}\n",
      "if{d==b}{b=bb}\n",
      "if{a<=a}{dacbd=cd}\n",
      "if{acbc<=a}{d=cbac}\n",
      "if{a>=a}{bd=b}\n"
     ]
    }
   ],
   "source": [
    "for i in range(20):\n",
    "    print(get_generation_by_gram(simple_programming,target='if_stmt',stmt_split='=>'))"
   ]
  },
  {
   "cell_type": "code",
   "execution_count": 80,
   "metadata": {},
   "outputs": [
    {
     "data": {
      "text/plain": [
       "' mike   快出去'"
      ]
     },
     "execution_count": 80,
     "metadata": {},
     "output_type": "execute_result"
    }
   ],
   "source": [
    "import random\n",
    "\n",
    "def name():\n",
    "    return random.choice('john | mike | 老吴'.split('|'))\n",
    "\n",
    "def hello():\n",
    "    return random.choice('你好 | 您来了 | 快出去'.split('|'))\n",
    "\n",
    "def say_hello(): \n",
    "    return name()+' '+hello()\n",
    "\n",
    "say_hello()"
   ]
  },
  {
   "cell_type": "code",
   "execution_count": 40,
   "metadata": {
    "scrolled": true
   },
   "outputs": [
    {
     "data": {
      "text/plain": [
       "{'__name__': '__main__',\n",
       " '__doc__': 'Automatically created module for IPython interactive environment',\n",
       " '__package__': None,\n",
       " '__loader__': None,\n",
       " '__spec__': None,\n",
       " '__builtin__': <module 'builtins' (built-in)>,\n",
       " '__builtins__': <module 'builtins' (built-in)>,\n",
       " '_ih': ['',\n",
       "  \"generate(rules,target = 'say_hello')\",\n",
       "  \"hello_rules= '''\\nsay_hello = name hello tail\\nnames = name names | name\\nname = John | mike | 老吴 | 老李\\nhello = 你好 | 您来了 | 快进来\\ntail = 啊 | ！\\n'''\",\n",
       "  'rules = dict()',\n",
       "  \"'add = number + number'\",\n",
       "  'stmt_split = \\'=\\'\\nor_split = \\'|\\' \\n\\nfor line in hello_rules.split(\\'\\\\n\\'):\\n    if not line : continue        \\n    \\n    stmt,expr = line.strip().split(stmt_split)\\n    #print(stmt,expr.split(or_split))\\n   \\n    rules[stmt.strip()] = expr.split(or_split)\\n     \\n    \\n#rules  \\n\\nrules[\"name\"]\\n    ',\n",
       "  \"def generate(grammar_rule,target):\\n    if target in grammar_rule:\\n        candidates = grammar_rule[target]  # ['name names', 'name']\\n        candidate = random.choice(candidates) # 'name names', 'name'\\n        \\n        return ''.join(generate(grammar_rule,target=c.strip()) for c in candidate.split())\\n    else:\\n        return target\",\n",
       "  \"generate(rules,target = 'say_hello')\",\n",
       "  \"hello_rules= '''\\nsay_hello = name hello tail\\nnames = name names | name\\nname = John | mike | 老吴 | 老李\\nhello = 你好 | 您来了 | 快进来\\ntail = 啊 | ！\\n'''\",\n",
       "  'rules = dict()',\n",
       "  \"'add = number + number'\",\n",
       "  'stmt_split = \\'=\\'\\nor_split = \\'|\\' \\n\\nfor line in hello_rules.split(\\'\\\\n\\'):\\n    if not line : continue        \\n    \\n    stmt,expr = line.strip().split(stmt_split)\\n    #print(stmt,expr.split(or_split))\\n   \\n    rules[stmt.strip()] = expr.split(or_split)\\n     \\n    \\n#rules  \\n\\nrules[\"name\"]\\n    ',\n",
       "  \"def generate(grammar_rule,target):\\n    if target in grammar_rule:\\n        candidates = grammar_rule[target]  # ['name names', 'name']\\n        candidate = random.choice(candidates) # 'name names', 'name'\\n        \\n        return ''.join(generate(grammar_rule,target=c.strip()) for c in candidate.split())\\n    else:\\n        return target\",\n",
       "  \"generate(rules,target = 'say_hello')\",\n",
       "  \"generate(rules,target = 'names')\",\n",
       "  'stmt_split = \\'=\\'\\nor_split = \\'|\\' \\n\\nfor line in hello_rules.split(\\'\\\\n\\'):\\n    if not line : continue        \\n    \\n    stmt,expr = line.strip().split(stmt_split)\\n    #print(stmt,expr.split(or_split))\\n   \\n    rules[stmt.strip()] = expr.split(or_split)\\n     \\n    \\nrules  \\n\\n#rules[\"name\"]\\n    ',\n",
       "  \"def generate(grammar_rule,target):\\n    if target in grammar_rule:\\n        candidates = grammar_rule[target]  # ['name names', 'name']\\n        candidate = random.choice(candidates) # 'name names', 'name'\\n        \\n        return ''.join(generate(grammar_rule,target=c.strip()) for c in candidate.split())\\n    else:\\n        return target\",\n",
       "  \"generate(rules,target = 'names')\",\n",
       "  \"def generate(grammar_rule,target):\\n    if target in grammar_rule:\\n        candidates = grammar_rule[target]  # ['name names', 'name']\\n        candidate = random.choice(candidates) # 'name names', 'name'\\n        \\n        return ' '.join(generate(grammar_rule,target=c.strip()) for c in candidate.split())\\n    else:\\n        return target\",\n",
       "  \"generate(rules,target = 'names')\",\n",
       "  'stmt_split = \\'=\\'\\nor_split = \\'|\\' \\n\\nfor line in hello_rules.split(\\'\\\\n\\'):\\n    if not line : continue        \\n    \\n    stmt,expr = line.strip().split(stmt_split)\\n    #print(stmt,expr.split(or_split))\\n   \\n    rules[stmt.strip()] = expr.split(or_split)\\n     \\n    \\nrules  \\n\\n、rules[\"name\"]\\n    ',\n",
       "  'stmt_split = \\'=\\'\\nor_split = \\'|\\' \\n\\nfor line in hello_rules.split(\\'\\\\n\\'):\\n    if not line : continue        \\n    \\n    stmt,expr = line.strip().split(stmt_split)\\n    #print(stmt,expr.split(or_split))\\n   \\n    rules[stmt.strip()] = expr.split(or_split)\\n     \\n    \\nrules  \\n\\nrules[\"name\"]\\n    ',\n",
       "  \"generate(rules,target = 'names1')\",\n",
       "  \"generate(rules,target = 'name')\",\n",
       "  \"def generate(grammar_rule,target):\\n    if target in grammar_rule:\\n        candidates = grammar_rule[target]  # ['name names', 'name']\\n        candidate = random.choice(candidates) # 'name names', 'name'\\n        \\n        return  candidate # ' '.join(generate(grammar_rule,target=c.strip()) for c in candidate.split())\\n    else:\\n        return target\",\n",
       "  \"generate(rules,target = 'name')\",\n",
       "  \"generate(rules,target = 'say_hello')\",\n",
       "  \"def generate1(grammar_rule,target):\\n    if target in grammar_rule:\\n        candidates = grammar_rule[target]  # ['name names', 'name']\\n        candidate = random.choice(candidates) # 'name names', 'name'\\n        \\n        return ''.join(generate(grammar_rule,target=c.strip()) for c in candidate.split())\\n    else:\\n        return target\",\n",
       "  \"generate1(rules,target = 'say_hello')\",\n",
       "  \"import random\\ndef generate1(grammar_rule,target):\\n    if target in grammar_rule:\\n        candidates = grammar_rule[target]  # ['name names', 'name']\\n        candidate = random.choice(candidates) # 'name names', 'name'\\n        \\n        return ''.join(generate(grammar_rule,target=c.strip()) for c in candidate.split())\\n    else:\\n        return target\",\n",
       "  \"generate1(rules,target = 'say_hello')\",\n",
       "  \"import random\\ndef generate(grammar_rule,target):\\n    if target in grammar_rule:\\n        candidates = grammar_rule[target]  # ['name names', 'name']\\n        candidate = random.choice(candidates) # 'name names', 'name'\\n        \\n        return ''.join(generate(grammar_rule,target=c.strip()) for c in candidate.split())\\n    else:\\n        return target\",\n",
       "  \"import random\\ndef generate(grammar_rule,target):\\n    if target in grammar_rule:\\n        candidates = grammar_rule[target]  # ['name names', 'name']\\n        candidate = random.choice(candidates) # 'name names', 'name'\\n        \\n        return ''.join(generate(grammar_rule,target=c.strip()) for c in candidate.split())\\n    else:\\n        return target\",\n",
       "  \"generate(rules,target = 'say_hello')\",\n",
       "  \"generate(rules,target = 'say_hello')\",\n",
       "  \"generate(rules,target = 'say_hello')\",\n",
       "  \"generate(rules,target = 'say_hello')\",\n",
       "  \"generate(rules,target = 'say_hello')\",\n",
       "  \"generate(rules,target = 'say_hello')\",\n",
       "  \"def get_generation_by_gram(grammar_str,target,stmt_split='=',or_split='|'):\\n    rules = dict()\\n    for line in hello_rules.split('\\\\n'):\\n        if not line: continue\\n        \\n        stmt,expr = line.split(stmt_split)\\n        \\n        rules[stmt.strip()] = expr.split(or_split)\\n    \\n    generated = generate(rules,target=target)\\n    \\n    return generated\",\n",
       "  'locals()'],\n",
       " '_oh': {4: 'add = number + number',\n",
       "  5: [' John ', ' mike ', ' 老吴 ', ' 老李'],\n",
       "  10: 'add = number + number',\n",
       "  11: [' John ', ' mike ', ' 老吴 ', ' 老李'],\n",
       "  15: {'say_hello': [' name hello tail'],\n",
       "   'names': [' name names ', ' name'],\n",
       "   'name': [' John ', ' mike ', ' 老吴 ', ' 老李'],\n",
       "   'hello': [' 你好 ', ' 您来了 ', ' 快进来'],\n",
       "   'tail': [' 啊 ', ' ！']},\n",
       "  21: [' John ', ' mike ', ' 老吴 ', ' 老李'],\n",
       "  22: 'names1',\n",
       "  30: ' 老李 你好  ！',\n",
       "  33: '老李你好！',\n",
       "  34: 'mike您来了！',\n",
       "  35: '老吴快进来啊',\n",
       "  36: '老李快进来啊',\n",
       "  37: 'mike你好！',\n",
       "  38: 'mike你好啊'},\n",
       " '_dh': ['C:\\\\Users\\\\HP'],\n",
       " 'In': ['',\n",
       "  \"generate(rules,target = 'say_hello')\",\n",
       "  \"hello_rules= '''\\nsay_hello = name hello tail\\nnames = name names | name\\nname = John | mike | 老吴 | 老李\\nhello = 你好 | 您来了 | 快进来\\ntail = 啊 | ！\\n'''\",\n",
       "  'rules = dict()',\n",
       "  \"'add = number + number'\",\n",
       "  'stmt_split = \\'=\\'\\nor_split = \\'|\\' \\n\\nfor line in hello_rules.split(\\'\\\\n\\'):\\n    if not line : continue        \\n    \\n    stmt,expr = line.strip().split(stmt_split)\\n    #print(stmt,expr.split(or_split))\\n   \\n    rules[stmt.strip()] = expr.split(or_split)\\n     \\n    \\n#rules  \\n\\nrules[\"name\"]\\n    ',\n",
       "  \"def generate(grammar_rule,target):\\n    if target in grammar_rule:\\n        candidates = grammar_rule[target]  # ['name names', 'name']\\n        candidate = random.choice(candidates) # 'name names', 'name'\\n        \\n        return ''.join(generate(grammar_rule,target=c.strip()) for c in candidate.split())\\n    else:\\n        return target\",\n",
       "  \"generate(rules,target = 'say_hello')\",\n",
       "  \"hello_rules= '''\\nsay_hello = name hello tail\\nnames = name names | name\\nname = John | mike | 老吴 | 老李\\nhello = 你好 | 您来了 | 快进来\\ntail = 啊 | ！\\n'''\",\n",
       "  'rules = dict()',\n",
       "  \"'add = number + number'\",\n",
       "  'stmt_split = \\'=\\'\\nor_split = \\'|\\' \\n\\nfor line in hello_rules.split(\\'\\\\n\\'):\\n    if not line : continue        \\n    \\n    stmt,expr = line.strip().split(stmt_split)\\n    #print(stmt,expr.split(or_split))\\n   \\n    rules[stmt.strip()] = expr.split(or_split)\\n     \\n    \\n#rules  \\n\\nrules[\"name\"]\\n    ',\n",
       "  \"def generate(grammar_rule,target):\\n    if target in grammar_rule:\\n        candidates = grammar_rule[target]  # ['name names', 'name']\\n        candidate = random.choice(candidates) # 'name names', 'name'\\n        \\n        return ''.join(generate(grammar_rule,target=c.strip()) for c in candidate.split())\\n    else:\\n        return target\",\n",
       "  \"generate(rules,target = 'say_hello')\",\n",
       "  \"generate(rules,target = 'names')\",\n",
       "  'stmt_split = \\'=\\'\\nor_split = \\'|\\' \\n\\nfor line in hello_rules.split(\\'\\\\n\\'):\\n    if not line : continue        \\n    \\n    stmt,expr = line.strip().split(stmt_split)\\n    #print(stmt,expr.split(or_split))\\n   \\n    rules[stmt.strip()] = expr.split(or_split)\\n     \\n    \\nrules  \\n\\n#rules[\"name\"]\\n    ',\n",
       "  \"def generate(grammar_rule,target):\\n    if target in grammar_rule:\\n        candidates = grammar_rule[target]  # ['name names', 'name']\\n        candidate = random.choice(candidates) # 'name names', 'name'\\n        \\n        return ''.join(generate(grammar_rule,target=c.strip()) for c in candidate.split())\\n    else:\\n        return target\",\n",
       "  \"generate(rules,target = 'names')\",\n",
       "  \"def generate(grammar_rule,target):\\n    if target in grammar_rule:\\n        candidates = grammar_rule[target]  # ['name names', 'name']\\n        candidate = random.choice(candidates) # 'name names', 'name'\\n        \\n        return ' '.join(generate(grammar_rule,target=c.strip()) for c in candidate.split())\\n    else:\\n        return target\",\n",
       "  \"generate(rules,target = 'names')\",\n",
       "  'stmt_split = \\'=\\'\\nor_split = \\'|\\' \\n\\nfor line in hello_rules.split(\\'\\\\n\\'):\\n    if not line : continue        \\n    \\n    stmt,expr = line.strip().split(stmt_split)\\n    #print(stmt,expr.split(or_split))\\n   \\n    rules[stmt.strip()] = expr.split(or_split)\\n     \\n    \\nrules  \\n\\n、rules[\"name\"]\\n    ',\n",
       "  'stmt_split = \\'=\\'\\nor_split = \\'|\\' \\n\\nfor line in hello_rules.split(\\'\\\\n\\'):\\n    if not line : continue        \\n    \\n    stmt,expr = line.strip().split(stmt_split)\\n    #print(stmt,expr.split(or_split))\\n   \\n    rules[stmt.strip()] = expr.split(or_split)\\n     \\n    \\nrules  \\n\\nrules[\"name\"]\\n    ',\n",
       "  \"generate(rules,target = 'names1')\",\n",
       "  \"generate(rules,target = 'name')\",\n",
       "  \"def generate(grammar_rule,target):\\n    if target in grammar_rule:\\n        candidates = grammar_rule[target]  # ['name names', 'name']\\n        candidate = random.choice(candidates) # 'name names', 'name'\\n        \\n        return  candidate # ' '.join(generate(grammar_rule,target=c.strip()) for c in candidate.split())\\n    else:\\n        return target\",\n",
       "  \"generate(rules,target = 'name')\",\n",
       "  \"generate(rules,target = 'say_hello')\",\n",
       "  \"def generate1(grammar_rule,target):\\n    if target in grammar_rule:\\n        candidates = grammar_rule[target]  # ['name names', 'name']\\n        candidate = random.choice(candidates) # 'name names', 'name'\\n        \\n        return ''.join(generate(grammar_rule,target=c.strip()) for c in candidate.split())\\n    else:\\n        return target\",\n",
       "  \"generate1(rules,target = 'say_hello')\",\n",
       "  \"import random\\ndef generate1(grammar_rule,target):\\n    if target in grammar_rule:\\n        candidates = grammar_rule[target]  # ['name names', 'name']\\n        candidate = random.choice(candidates) # 'name names', 'name'\\n        \\n        return ''.join(generate(grammar_rule,target=c.strip()) for c in candidate.split())\\n    else:\\n        return target\",\n",
       "  \"generate1(rules,target = 'say_hello')\",\n",
       "  \"import random\\ndef generate(grammar_rule,target):\\n    if target in grammar_rule:\\n        candidates = grammar_rule[target]  # ['name names', 'name']\\n        candidate = random.choice(candidates) # 'name names', 'name'\\n        \\n        return ''.join(generate(grammar_rule,target=c.strip()) for c in candidate.split())\\n    else:\\n        return target\",\n",
       "  \"import random\\ndef generate(grammar_rule,target):\\n    if target in grammar_rule:\\n        candidates = grammar_rule[target]  # ['name names', 'name']\\n        candidate = random.choice(candidates) # 'name names', 'name'\\n        \\n        return ''.join(generate(grammar_rule,target=c.strip()) for c in candidate.split())\\n    else:\\n        return target\",\n",
       "  \"generate(rules,target = 'say_hello')\",\n",
       "  \"generate(rules,target = 'say_hello')\",\n",
       "  \"generate(rules,target = 'say_hello')\",\n",
       "  \"generate(rules,target = 'say_hello')\",\n",
       "  \"generate(rules,target = 'say_hello')\",\n",
       "  \"generate(rules,target = 'say_hello')\",\n",
       "  \"def get_generation_by_gram(grammar_str,target,stmt_split='=',or_split='|'):\\n    rules = dict()\\n    for line in hello_rules.split('\\\\n'):\\n        if not line: continue\\n        \\n        stmt,expr = line.split(stmt_split)\\n        \\n        rules[stmt.strip()] = expr.split(or_split)\\n    \\n    generated = generate(rules,target=target)\\n    \\n    return generated\",\n",
       "  'locals()'],\n",
       " 'Out': {4: 'add = number + number',\n",
       "  5: [' John ', ' mike ', ' 老吴 ', ' 老李'],\n",
       "  10: 'add = number + number',\n",
       "  11: [' John ', ' mike ', ' 老吴 ', ' 老李'],\n",
       "  15: {'say_hello': [' name hello tail'],\n",
       "   'names': [' name names ', ' name'],\n",
       "   'name': [' John ', ' mike ', ' 老吴 ', ' 老李'],\n",
       "   'hello': [' 你好 ', ' 您来了 ', ' 快进来'],\n",
       "   'tail': [' 啊 ', ' ！']},\n",
       "  21: [' John ', ' mike ', ' 老吴 ', ' 老李'],\n",
       "  22: 'names1',\n",
       "  30: ' 老李 你好  ！',\n",
       "  33: '老李你好！',\n",
       "  34: 'mike您来了！',\n",
       "  35: '老吴快进来啊',\n",
       "  36: '老李快进来啊',\n",
       "  37: 'mike你好！',\n",
       "  38: 'mike你好啊'},\n",
       " 'get_ipython': <bound method InteractiveShell.get_ipython of <ipykernel.zmqshell.ZMQInteractiveShell object at 0x000001E0D1825BE0>>,\n",
       " 'exit': <IPython.core.autocall.ZMQExitAutocall at 0x1e0d1878ac8>,\n",
       " 'quit': <IPython.core.autocall.ZMQExitAutocall at 0x1e0d1878ac8>,\n",
       " '_': 'mike你好啊',\n",
       " '__': 'mike你好！',\n",
       " '___': '老李快进来啊',\n",
       " '_i': \"def get_generation_by_gram(grammar_str,target,stmt_split='=',or_split='|'):\\n    rules = dict()\\n    for line in hello_rules.split('\\\\n'):\\n        if not line: continue\\n        \\n        stmt,expr = line.split(stmt_split)\\n        \\n        rules[stmt.strip()] = expr.split(or_split)\\n    \\n    generated = generate(rules,target=target)\\n    \\n    return generated\",\n",
       " '_ii': \"generate(rules,target = 'say_hello')\",\n",
       " '_iii': \"generate(rules,target = 'say_hello')\",\n",
       " '_i1': \"generate(rules,target = 'say_hello')\",\n",
       " '_i2': \"hello_rules= '''\\nsay_hello = name hello tail\\nnames = name names | name\\nname = John | mike | 老吴 | 老李\\nhello = 你好 | 您来了 | 快进来\\ntail = 啊 | ！\\n'''\",\n",
       " 'hello_rules': '\\nsay_hello = name hello tail\\nnames = name names | name\\nname = John | mike | 老吴 | 老李\\nhello = 你好 | 您来了 | 快进来\\ntail = 啊 | ！\\n',\n",
       " '_i3': 'rules = dict()',\n",
       " 'rules': {'say_hello': [' name hello tail'],\n",
       "  'names': [' name names ', ' name'],\n",
       "  'name': [' John ', ' mike ', ' 老吴 ', ' 老李'],\n",
       "  'hello': [' 你好 ', ' 您来了 ', ' 快进来'],\n",
       "  'tail': [' 啊 ', ' ！']},\n",
       " '_i4': \"'add = number + number'\",\n",
       " '_4': 'add = number + number',\n",
       " '_i5': 'stmt_split = \\'=\\'\\nor_split = \\'|\\' \\n\\nfor line in hello_rules.split(\\'\\\\n\\'):\\n    if not line : continue        \\n    \\n    stmt,expr = line.strip().split(stmt_split)\\n    #print(stmt,expr.split(or_split))\\n   \\n    rules[stmt.strip()] = expr.split(or_split)\\n     \\n    \\n#rules  \\n\\nrules[\"name\"]\\n    ',\n",
       " 'stmt_split': '=',\n",
       " 'or_split': '|',\n",
       " 'line': '',\n",
       " 'stmt': 'tail ',\n",
       " 'expr': ' 啊 | ！',\n",
       " '_5': [' John ', ' mike ', ' 老吴 ', ' 老李'],\n",
       " '_i6': \"def generate(grammar_rule,target):\\n    if target in grammar_rule:\\n        candidates = grammar_rule[target]  # ['name names', 'name']\\n        candidate = random.choice(candidates) # 'name names', 'name'\\n        \\n        return ''.join(generate(grammar_rule,target=c.strip()) for c in candidate.split())\\n    else:\\n        return target\",\n",
       " 'generate': <function __main__.generate(grammar_rule, target)>,\n",
       " '_i7': \"generate(rules,target = 'say_hello')\",\n",
       " '_i8': \"hello_rules= '''\\nsay_hello = name hello tail\\nnames = name names | name\\nname = John | mike | 老吴 | 老李\\nhello = 你好 | 您来了 | 快进来\\ntail = 啊 | ！\\n'''\",\n",
       " '_i9': 'rules = dict()',\n",
       " '_i10': \"'add = number + number'\",\n",
       " '_10': 'add = number + number',\n",
       " '_i11': 'stmt_split = \\'=\\'\\nor_split = \\'|\\' \\n\\nfor line in hello_rules.split(\\'\\\\n\\'):\\n    if not line : continue        \\n    \\n    stmt,expr = line.strip().split(stmt_split)\\n    #print(stmt,expr.split(or_split))\\n   \\n    rules[stmt.strip()] = expr.split(or_split)\\n     \\n    \\n#rules  \\n\\nrules[\"name\"]\\n    ',\n",
       " '_11': [' John ', ' mike ', ' 老吴 ', ' 老李'],\n",
       " '_i12': \"def generate(grammar_rule,target):\\n    if target in grammar_rule:\\n        candidates = grammar_rule[target]  # ['name names', 'name']\\n        candidate = random.choice(candidates) # 'name names', 'name'\\n        \\n        return ''.join(generate(grammar_rule,target=c.strip()) for c in candidate.split())\\n    else:\\n        return target\",\n",
       " '_i13': \"generate(rules,target = 'say_hello')\",\n",
       " '_i14': \"generate(rules,target = 'names')\",\n",
       " '_i15': 'stmt_split = \\'=\\'\\nor_split = \\'|\\' \\n\\nfor line in hello_rules.split(\\'\\\\n\\'):\\n    if not line : continue        \\n    \\n    stmt,expr = line.strip().split(stmt_split)\\n    #print(stmt,expr.split(or_split))\\n   \\n    rules[stmt.strip()] = expr.split(or_split)\\n     \\n    \\nrules  \\n\\n#rules[\"name\"]\\n    ',\n",
       " '_15': {'say_hello': [' name hello tail'],\n",
       "  'names': [' name names ', ' name'],\n",
       "  'name': [' John ', ' mike ', ' 老吴 ', ' 老李'],\n",
       "  'hello': [' 你好 ', ' 您来了 ', ' 快进来'],\n",
       "  'tail': [' 啊 ', ' ！']},\n",
       " '_i16': \"def generate(grammar_rule,target):\\n    if target in grammar_rule:\\n        candidates = grammar_rule[target]  # ['name names', 'name']\\n        candidate = random.choice(candidates) # 'name names', 'name'\\n        \\n        return ''.join(generate(grammar_rule,target=c.strip()) for c in candidate.split())\\n    else:\\n        return target\",\n",
       " '_i17': \"generate(rules,target = 'names')\",\n",
       " '_i18': \"def generate(grammar_rule,target):\\n    if target in grammar_rule:\\n        candidates = grammar_rule[target]  # ['name names', 'name']\\n        candidate = random.choice(candidates) # 'name names', 'name'\\n        \\n        return ' '.join(generate(grammar_rule,target=c.strip()) for c in candidate.split())\\n    else:\\n        return target\",\n",
       " '_i19': \"generate(rules,target = 'names')\",\n",
       " '_i20': 'stmt_split = \\'=\\'\\nor_split = \\'|\\' \\n\\nfor line in hello_rules.split(\\'\\\\n\\'):\\n    if not line : continue        \\n    \\n    stmt,expr = line.strip().split(stmt_split)\\n    #print(stmt,expr.split(or_split))\\n   \\n    rules[stmt.strip()] = expr.split(or_split)\\n     \\n    \\nrules  \\n\\n、rules[\"name\"]\\n    ',\n",
       " '_i21': 'stmt_split = \\'=\\'\\nor_split = \\'|\\' \\n\\nfor line in hello_rules.split(\\'\\\\n\\'):\\n    if not line : continue        \\n    \\n    stmt,expr = line.strip().split(stmt_split)\\n    #print(stmt,expr.split(or_split))\\n   \\n    rules[stmt.strip()] = expr.split(or_split)\\n     \\n    \\nrules  \\n\\nrules[\"name\"]\\n    ',\n",
       " '_21': [' John ', ' mike ', ' 老吴 ', ' 老李'],\n",
       " '_i22': \"generate(rules,target = 'names1')\",\n",
       " '_22': 'names1',\n",
       " '_i23': \"generate(rules,target = 'name')\",\n",
       " '_i24': \"def generate(grammar_rule,target):\\n    if target in grammar_rule:\\n        candidates = grammar_rule[target]  # ['name names', 'name']\\n        candidate = random.choice(candidates) # 'name names', 'name'\\n        \\n        return  candidate # ' '.join(generate(grammar_rule,target=c.strip()) for c in candidate.split())\\n    else:\\n        return target\",\n",
       " '_i25': \"generate(rules,target = 'name')\",\n",
       " '_i26': \"generate(rules,target = 'say_hello')\",\n",
       " '_i27': \"def generate1(grammar_rule,target):\\n    if target in grammar_rule:\\n        candidates = grammar_rule[target]  # ['name names', 'name']\\n        candidate = random.choice(candidates) # 'name names', 'name'\\n        \\n        return ''.join(generate(grammar_rule,target=c.strip()) for c in candidate.split())\\n    else:\\n        return target\",\n",
       " 'generate1': <function __main__.generate1(grammar_rule, target)>,\n",
       " '_i28': \"generate1(rules,target = 'say_hello')\",\n",
       " '_i29': \"import random\\ndef generate1(grammar_rule,target):\\n    if target in grammar_rule:\\n        candidates = grammar_rule[target]  # ['name names', 'name']\\n        candidate = random.choice(candidates) # 'name names', 'name'\\n        \\n        return ''.join(generate(grammar_rule,target=c.strip()) for c in candidate.split())\\n    else:\\n        return target\",\n",
       " 'random': <module 'random' from 'd:\\\\ProgramData\\\\Anaconda3\\\\lib\\\\random.py'>,\n",
       " '_i30': \"generate1(rules,target = 'say_hello')\",\n",
       " '_30': ' 老李 你好  ！',\n",
       " '_i31': \"import random\\ndef generate(grammar_rule,target):\\n    if target in grammar_rule:\\n        candidates = grammar_rule[target]  # ['name names', 'name']\\n        candidate = random.choice(candidates) # 'name names', 'name'\\n        \\n        return ''.join(generate(grammar_rule,target=c.strip()) for c in candidate.split())\\n    else:\\n        return target\",\n",
       " '_i32': \"import random\\ndef generate(grammar_rule,target):\\n    if target in grammar_rule:\\n        candidates = grammar_rule[target]  # ['name names', 'name']\\n        candidate = random.choice(candidates) # 'name names', 'name'\\n        \\n        return ''.join(generate(grammar_rule,target=c.strip()) for c in candidate.split())\\n    else:\\n        return target\",\n",
       " '_i33': \"generate(rules,target = 'say_hello')\",\n",
       " '_33': '老李你好！',\n",
       " '_i34': \"generate(rules,target = 'say_hello')\",\n",
       " '_34': 'mike您来了！',\n",
       " '_i35': \"generate(rules,target = 'say_hello')\",\n",
       " '_35': '老吴快进来啊',\n",
       " '_i36': \"generate(rules,target = 'say_hello')\",\n",
       " '_36': '老李快进来啊',\n",
       " '_i37': \"generate(rules,target = 'say_hello')\",\n",
       " '_37': 'mike你好！',\n",
       " '_i38': \"generate(rules,target = 'say_hello')\",\n",
       " '_38': 'mike你好啊',\n",
       " '_i39': \"def get_generation_by_gram(grammar_str,target,stmt_split='=',or_split='|'):\\n    rules = dict()\\n    for line in hello_rules.split('\\\\n'):\\n        if not line: continue\\n        \\n        stmt,expr = line.split(stmt_split)\\n        \\n        rules[stmt.strip()] = expr.split(or_split)\\n    \\n    generated = generate(rules,target=target)\\n    \\n    return generated\",\n",
       " 'get_generation_by_gram': <function __main__.get_generation_by_gram(grammar_str, target, stmt_split='=', or_split='|')>,\n",
       " '_i40': 'locals()'}"
      ]
     },
     "execution_count": 40,
     "metadata": {},
     "output_type": "execute_result"
    }
   ],
   "source": [
    "locals()"
   ]
  },
  {
   "cell_type": "code",
   "execution_count": 128,
   "metadata": {},
   "outputs": [
    {
     "data": {
      "text/plain": [
       "'此外自本周6月12日起除小米手机6等15款机型外其余机型已暂停更新发布含开发版体验版内测稳定版暂不受影响以确保工程师可以集中全部精力进行系统优化工作有人猜测这也是将精力主要用到MIUI9的研发之中MIU'"
      ]
     },
     "execution_count": 128,
     "metadata": {},
     "output_type": "execute_result"
    }
   ],
   "source": [
    "corpus = 'G:\\AI人工智能作业\\\\nlp_ai_study.git\\\\trunk\\课程-01\\\\article_9k.txt'\n",
    "\n",
    "FILE = open(corpus,'r', encoding='UTF-8').read()\n",
    "\n",
    "FILE[:101]\n",
    "\n",
    "#''.join(random.sample(FILE,201))"
   ]
  },
  {
   "cell_type": "code",
   "execution_count": 137,
   "metadata": {},
   "outputs": [
    {
     "data": {
      "text/plain": [
       "'教的顶兰那n对n矿却确代点资她必探大关播'"
      ]
     },
     "execution_count": 137,
     "metadata": {},
     "output_type": "execute_result"
    }
   ],
   "source": [
    "def generate_by_pro(text_corpus,length=20):\n",
    "    return ''.join(random.sample(text_corpus,length))\n",
    "\n",
    "generate_by_pro(FILE)\n",
    "\n"
   ]
  },
  {
   "cell_type": "code",
   "execution_count": 171,
   "metadata": {},
   "outputs": [],
   "source": [
    "import jieba\n",
    "\n",
    "max_length = 1000000 #白万\n",
    "sub_file = FILE[:max_length]\n",
    "\n",
    "    "
   ]
  },
  {
   "cell_type": "code",
   "execution_count": 172,
   "metadata": {},
   "outputs": [],
   "source": [
    "def cut(string):\n",
    "    return list(jieba.cut(string))\n",
    "\n",
    "TOKENS = cut(sub_file)\n",
    "\n",
    "#list(jieba.cut('')"
   ]
  },
  {
   "cell_type": "code",
   "execution_count": 173,
   "metadata": {},
   "outputs": [
    {
     "data": {
      "text/plain": [
       "532454"
      ]
     },
     "execution_count": 173,
     "metadata": {},
     "output_type": "execute_result"
    }
   ],
   "source": [
    "len(TOKENS)"
   ]
  },
  {
   "cell_type": "code",
   "execution_count": 174,
   "metadata": {},
   "outputs": [
    {
     "data": {
      "text/plain": [
       "[<matplotlib.lines.Line2D at 0x1e0dcecfef0>]"
      ]
     },
     "execution_count": 174,
     "metadata": {},
     "output_type": "execute_result"
    },
    {
     "data": {
      "image/png": "[encoded data removed]",
      "text/plain": [
       "<Figure size 432x288 with 1 Axes>"
      ]
     },
     "metadata": {
      "needs_background": "light"
     },
     "output_type": "display_data"
    }
   ],
   "source": [
    "from collections import Counter\n",
    "\n",
    "%matplotlib inline\n",
    "\n",
    "words_count = Counter(TOKENS)\n",
    "\n",
    "words_with_fre = [f for w, f in words_count.most_common()]\n",
    "\n",
    "import matplotlib.pyplot as plt\n",
    "\n",
    "plt.plot(words_with_fre)"
   ]
  },
  {
   "cell_type": "code",
   "execution_count": 175,
   "metadata": {},
   "outputs": [
    {
     "data": {
      "text/plain": [
       "[28764, 7563, 6529, 4883, 4245, 2531, 2433, 2374, 2114, 1960]"
      ]
     },
     "execution_count": 175,
     "metadata": {},
     "output_type": "execute_result"
    }
   ],
   "source": [
    "words_with_fre[0:10]"
   ]
  },
  {
   "cell_type": "code",
   "execution_count": 176,
   "metadata": {},
   "outputs": [
    {
     "data": {
      "text/plain": [
       "[('的', 28764),\n",
       " ('在', 7563),\n",
       " ('了', 6529),\n",
       " ('是', 4883),\n",
       " ('和', 4245),\n",
       " ('也', 2531),\n",
       " ('月', 2433),\n",
       " ('有', 2374),\n",
       " ('将', 2114),\n",
       " ('他', 1960),\n",
       " ('年', 1959),\n",
       " ('对', 1795),\n",
       " ('都', 1720),\n",
       " ('中', 1699),\n",
       " ('为', 1686),\n",
       " ('日', 1674),\n",
       " ('等', 1655),\n",
       " ('与', 1601),\n",
       " ('中国', 1597),\n",
       " ('上', 1583),\n",
       " ('不', 1566),\n",
       " ('就', 1530),\n",
       " ('被', 1484),\n",
       " ('6', 1454),\n",
       " ('我', 1425),\n",
       " ('到', 1385),\n",
       " ('这', 1330),\n",
       " ('人', 1321),\n",
       " ('但', 1296),\n",
       " ('\\n', 1196),\n",
       " ('后', 1186),\n",
       " ('一个', 1173),\n",
       " ('从', 1120),\n",
       " ('还', 1117),\n",
       " ('并', 1103),\n",
       " ('说', 1065),\n",
       " ('而', 1027),\n",
       " ('市场', 1018),\n",
       " ('会', 1001),\n",
       " ('我们', 981),\n",
       " ('没有', 981),\n",
       " ('表示', 934),\n",
       " ('让', 878),\n",
       " ('自己', 831),\n",
       " ('进行', 818),\n",
       " ('要', 817),\n",
       " ('已经', 808),\n",
       " ('记者', 794),\n",
       " ('时', 774),\n",
       " ('可以', 773),\n",
       " ('个', 761),\n",
       " ('他们', 759),\n",
       " ('以', 752),\n",
       " ('公司', 730),\n",
       " ('下', 723),\n",
       " ('更', 699),\n",
       " ('发展', 694),\n",
       " ('5', 670),\n",
       " ('她', 652),\n",
       " ('美国', 651),\n",
       " ('其', 649),\n",
       " ('可能', 648),\n",
       " ('多', 646),\n",
       " ('你', 640),\n",
       " ('这个', 636),\n",
       " ('着', 631),\n",
       " ('目前', 611),\n",
       " ('就是', 611),\n",
       " ('能', 594),\n",
       " ('通过', 591),\n",
       " ('企业', 572),\n",
       " ('给', 567),\n",
       " ('时间', 560),\n",
       " ('工作', 558),\n",
       " ('新', 557),\n",
       " ('3', 555),\n",
       " ('很', 549),\n",
       " ('把', 548),\n",
       " ('问题', 546),\n",
       " ('来', 545),\n",
       " ('1', 535),\n",
       " ('经济', 521),\n",
       " ('地', 519),\n",
       " ('大', 519),\n",
       " ('北京', 511),\n",
       " ('已', 509),\n",
       " ('去', 501),\n",
       " ('20', 495),\n",
       " ('成为', 495),\n",
       " ('又', 491),\n",
       " ('以及', 488),\n",
       " ('旅游', 487),\n",
       " ('称', 486),\n",
       " ('里', 485),\n",
       " ('其中', 481),\n",
       " ('向', 478),\n",
       " ('4', 474),\n",
       " ('于', 470),\n",
       " ('投资', 467),\n",
       " ('10', 464)]"
      ]
     },
     "execution_count": 176,
     "metadata": {},
     "output_type": "execute_result"
    }
   ],
   "source": [
    "words_count.most_common(100)\n"
   ]
  },
  {
   "cell_type": "code",
   "execution_count": 177,
   "metadata": {
    "scrolled": true
   },
   "outputs": [
    {
     "data": {
      "text/plain": [
       "[<matplotlib.lines.Line2D at 0x1e0dcf45c50>]"
      ]
     },
     "execution_count": 177,
     "metadata": {},
     "output_type": "execute_result"
    },
    {
     "data": {
      "image/png": "[encoded data removed]",
      "text/plain": [
       "<Figure size 432x288 with 1 Axes>"
      ]
     },
     "metadata": {
      "needs_background": "light"
     },
     "output_type": "display_data"
    }
   ],
   "source": [
    "import numpy as np\n",
    "\n",
    "plt.plot(np.log(words_with_fre))"
   ]
  },
  {
   "cell_type": "code",
   "execution_count": 178,
   "metadata": {},
   "outputs": [
    {
     "data": {
      "text/plain": [
       "[<matplotlib.lines.Line2D at 0x1e0dcf718d0>]"
      ]
     },
     "execution_count": 178,
     "metadata": {},
     "output_type": "execute_result"
    },
    {
     "data": {
      "image/png": "[encoded data removed]",
      "text/plain": [
       "<Figure size 432x288 with 1 Axes>"
      ]
     },
     "metadata": {
      "needs_background": "light"
     },
     "output_type": "display_data"
    }
   ],
   "source": [
    " plt.plot(np.log(np.log(words_with_fre)))"
   ]
  },
  {
   "cell_type": "markdown",
   "metadata": {},
   "source": [
    "#在大量的文本中，出现次数第二多的单词，他出现的概率是出现频率最高的单词的1/2，\n",
    "#出现评率第三稿的单词，频率是最高的单词的1/3  1000=>1/1000"
   ]
  },
  {
   "cell_type": "code",
   "execution_count": 179,
   "metadata": {},
   "outputs": [
    {
     "data": {
      "text/plain": [
       "['此外']"
      ]
     },
     "execution_count": 179,
     "metadata": {},
     "output_type": "execute_result"
    }
   ],
   "source": [
    "#list(jieba.cut('一加手机5要做市面最轻薄'))\n",
    "\n",
    "TOKENS[:1]"
   ]
  },
  {
   "cell_type": "code",
   "execution_count": 180,
   "metadata": {},
   "outputs": [],
   "source": [
    "_2_gram_words = [\n",
    "    TOKENS[i] + TOKENS[i+1] for i in range(len(TOKENS)-1) \n",
    "]\n",
    "\n",
    "#_2_gram_words[:10]\n",
    "\n",
    "_2_gram_word_counts = Counter(_2_gram_words)\n",
    "\n",
    "#_2_gram_word_counts"
   ]
  },
  {
   "cell_type": "markdown",
   "metadata": {},
   "source": [
    "2-Gram:\n",
    "$$ Pr(sentence) = Pr(w1_1 \\cdot w2 \\cdots w_n) = \\prod \\frac{count(w_i,w_{i+1})}{count(w_{i+1})}$$"
   ]
  },
  {
   "cell_type": "code",
   "execution_count": 181,
   "metadata": {},
   "outputs": [],
   "source": [
    "def get_1_gram_count(word):\n",
    "    if word in words_count: return words_count[word]\n",
    "    else:\n",
    "        return words_count.most_common()[-1][-1]\n",
    "    \n",
    "def get_2_gram_count(word):\n",
    "    if word in _2_gram_word_counts: return _2_gram_word_counts[word]\n",
    "    else:\n",
    "        return _2_gram_word_counts.most_common()[-1][-1]\n",
    "    "
   ]
  },
  {
   "cell_type": "code",
   "execution_count": 182,
   "metadata": {},
   "outputs": [],
   "source": [
    "def two_gram_model(sentence):\n",
    "    tokens = cut(sentence)\n",
    "# two gram 模型\n",
    "    probability = 1\n",
    "    for i in range(len(tokens)-1):\n",
    "        word = tokens[i]\n",
    "        next_word = tokens[i+1]\n",
    "        \n",
    "        _two_gram_c = get_gram_count(word+next_word,_2_gram_word_counts)\n",
    "        _one_gram_c = get_gram_count(next_word,words_count)\n",
    "        \n",
    "        pro = _two_gram_c /_one_gram_c\n",
    "        \n",
    "        probability *= pro\n",
    "    \n",
    "    return probability"
   ]
  },
  {
   "cell_type": "code",
   "execution_count": 183,
   "metadata": {},
   "outputs": [],
   "source": [
    "def get_gram_count(word,wc):\n",
    "    if word in wc: return wc[word]\n",
    "    else:\n",
    "        return wc.most_common()[-1][-1]\n",
    "    "
   ]
  },
  {
   "cell_type": "code",
   "execution_count": 184,
   "metadata": {},
   "outputs": [
    {
     "data": {
      "text/plain": [
       "1"
      ]
     },
     "execution_count": 184,
     "metadata": {},
     "output_type": "execute_result"
    }
   ],
   "source": [
    "#get_gram_count('aaa',words_count)\n",
    "\n",
    "get_gram_count('aaa',_2_gram_word_counts)\n"
   ]
  },
  {
   "cell_type": "code",
   "execution_count": 185,
   "metadata": {},
   "outputs": [
    {
     "data": {
      "text/plain": [
       "7.429922323539344e-07"
      ]
     },
     "execution_count": 185,
     "metadata": {},
     "output_type": "execute_result"
    }
   ],
   "source": [
    "two_gram_model('前天早上吃晚饭的时候')"
   ]
  },
  {
   "cell_type": "code",
   "execution_count": 186,
   "metadata": {},
   "outputs": [
    {
     "data": {
      "text/plain": [
       "3.0458089668615984e-06"
      ]
     },
     "execution_count": 186,
     "metadata": {},
     "output_type": "execute_result"
    }
   ],
   "source": [
    "two_gram_model('我请你吃火锅')"
   ]
  },
  {
   "cell_type": "code",
   "execution_count": 187,
   "metadata": {},
   "outputs": [
    {
     "data": {
      "text/plain": [
       "5.710891812865497e-08"
      ]
     },
     "execution_count": 187,
     "metadata": {},
     "output_type": "execute_result"
    }
   ],
   "source": [
    "two_gram_model('我请你吃日料大餐')"
   ]
  },
  {
   "cell_type": "code",
   "execution_count": 188,
   "metadata": {},
   "outputs": [
    {
     "data": {
      "text/plain": [
       "2.102784086130036e-06"
      ]
     },
     "execution_count": 188,
     "metadata": {},
     "output_type": "execute_result"
    }
   ],
   "source": [
    "two_gram_model('这个人来自清华大学')"
   ]
  },
  {
   "cell_type": "code",
   "execution_count": 189,
   "metadata": {},
   "outputs": [
    {
     "data": {
      "text/plain": [
       "2.751306280917804e-07"
      ]
     },
     "execution_count": 189,
     "metadata": {},
     "output_type": "execute_result"
    }
   ],
   "source": [
    "two_gram_model('这个人来自秦华大学')"
   ]
  },
  {
   "cell_type": "code",
   "execution_count": null,
   "metadata": {},
   "outputs": [],
   "source": []
  }
 ],
 "metadata": {
  "kernelspec": {
   "display_name": "Python 3",
   "language": "python",
   "name": "python3"
  },
  "language_info": {
   "codemirror_mode": {
    "name": "ipython",
    "version": 3
   },
   "file_extension": ".py",
   "mimetype": "text/x-python",
   "name": "python",
   "nbconvert_exporter": "python",
   "pygments_lexer": "ipython3",
   "version": "3.7.1"
  }
 },
 "nbformat": 4,
 "nbformat_minor": 2
}
